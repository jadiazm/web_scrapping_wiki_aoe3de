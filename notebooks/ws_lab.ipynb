{
 "cells": [
  {
   "cell_type": "code",
   "execution_count": 3,
   "metadata": {},
   "outputs": [],
   "source": [
    "%load_ext autoreload\n",
    "%autoreload 2\n",
    "\n",
    "import os\n",
    "import sys\n",
    "\n",
    "import requests\n",
    "from bs4 import BeautifulSoup as bs\n",
    "from bs4.element import Tag, NavigableString\n",
    "\n",
    "project_path = os.path.abspath(\"..\")\n",
    "\n",
    "sys.path.append(project_path)"
   ]
  },
  {
   "cell_type": "code",
   "execution_count": 4,
   "metadata": {},
   "outputs": [],
   "source": [
    "from src.scraper import (\n",
    "    download_unit_icon,\n",
    "    extract_block_data,\n",
    "    extract_feat_values,\n",
    "    extract_unit_data,\n",
    ")"
   ]
  },
  {
   "cell_type": "code",
   "execution_count": 5,
   "metadata": {},
   "outputs": [],
   "source": [
    "def fetch_page_content(url):\n",
    "    \"\"\"Fetches the HTML content of the page.\"\"\"\n",
    "    response = requests.get(url)\n",
    "    response.raise_for_status()\n",
    "    # Raises an error for bad responses (e.g., 404, 500)\n",
    "    return response.text"
   ]
  },
  {
   "cell_type": "code",
   "execution_count": 6,
   "metadata": {},
   "outputs": [],
   "source": [
    "url = \"https://ageofempires.fandom.com/wiki/War_Wagon_(Age_of_Empires_III)\"\n",
    "html_content = fetch_page_content(url)\n",
    "soup = bs(html_content, \"html.parser\")\n",
    "infobox = soup.find('aside', class_='portable-infobox')"
   ]
  },
  {
   "cell_type": "code",
   "execution_count": 7,
   "metadata": {},
   "outputs": [
    {
     "name": "stdout",
     "output_type": "stream",
     "text": [
      "Icono guardado como: 'war_wagon_de.png' en 'c:\\Users\\Jonathan Diaz\\Documentos\\Proyects\\aoe3de_web_scraper\\images'\n"
     ]
    }
   ],
   "source": [
    "img_path = os.path.join(project_path, \"images\")\n",
    "download_unit_icon(infobox, img_path)"
   ]
  },
  {
   "cell_type": "code",
   "execution_count": 8,
   "metadata": {},
   "outputs": [],
   "source": [
    "statistic_labels = [\n",
    "    \"Cost\",\n",
    "    \"Resistance\",\n",
    "    \"Damage\",\n",
    "    \"Bonus damage\",\n",
    "]"
   ]
  },
  {
   "cell_type": "code",
   "execution_count": 9,
   "metadata": {},
   "outputs": [
    {
     "name": "stdout",
     "output_type": "stream",
     "text": [
      "label:  Introduced in\n",
      "value_type:  str\n",
      "values:  Age of Empires III\n",
      "\n",
      "label:  Type\n",
      "value_type:  list\n",
      "values:  ['Cavalry', 'Light ranged cavalry', 'Ranged cavalry', 'Gunpowder cavalry']\n",
      "\n",
      "label:  Civilization(s)\n",
      "value_type:  list\n",
      "values:  ['Germans', \"John Black's Mercenaries (Act II: Ice)\", 'South Africa']\n",
      "\n",
      "label:  Age\n",
      "value_type:  list\n",
      "values:  ['Fortress Age', 'Revolution (South Africa)']\n",
      "\n",
      "label:  Required Home City Card\n",
      "value_type:  str\n",
      "values:  \"Wagon Warfare\" (South Africa)\n",
      "\n"
     ]
    },
    {
     "data": {
      "text/plain": [
       "{'Introduced in': 'Age of Empires III',\n",
       " 'Type': ['Cavalry',\n",
       "  'Light ranged cavalry',\n",
       "  'Ranged cavalry',\n",
       "  'Gunpowder cavalry'],\n",
       " 'Civilization(s)': ['Germans',\n",
       "  \"John Black's Mercenaries (Act II: Ice)\",\n",
       "  'South Africa'],\n",
       " 'Age': ['Fortress Age', 'Revolution (South Africa)'],\n",
       " 'Required Home City Card': '\"Wagon Warfare\" (South Africa)'}"
      ]
     },
     "execution_count": 9,
     "metadata": {},
     "output_type": "execute_result"
    }
   ],
   "source": [
    "blocks = infobox.find_all(\"section\")\n",
    "block = blocks[0]\n",
    "extract_block_data(block)"
   ]
  },
  {
   "cell_type": "code",
   "execution_count": 10,
   "metadata": {},
   "outputs": [
    {
     "name": "stdout",
     "output_type": "stream",
     "text": [
      "label:  Introduced in\n",
      "value_type:  <class 'str'>\n",
      "values:  Age of Empires III\n"
     ]
    }
   ],
   "source": [
    "statistic_labels = [\n",
    "    \"Cost\",\n",
    "    \"Resistance\",\n",
    "    \"Damage\",\n",
    "    \"Bonus damage\",\n",
    "]\n",
    "\n",
    "rows = block.find_all(\"div\", class_=\"pi-item\", recursive=False)\n",
    "row = rows[0]\n",
    "label = row.find(\"h3\").text\n",
    "is_st_label = label in statistic_labels\n",
    "\n",
    "elements = row.find(\"div\", class_=\"pi-data-value\")\n",
    "\n",
    "values = extract_feat_values(elements, is_st_label)\n",
    "\n",
    "print(\"label: \", label)\n",
    "print(\"value_type: \", type(values))\n",
    "print(\"values: \", values)"
   ]
  },
  {
   "cell_type": "code",
   "execution_count": 134,
   "metadata": {},
   "outputs": [
    {
     "name": "stdout",
     "output_type": "stream",
     "text": [
      "=========================================================================================\n",
      "=========================================================================================\n",
      "Type:  NavigableString\n",
      "Name Tag:  None\n",
      "Text:  20% \n",
      "\n",
      "Content:  20% \n",
      "=========================================================================================\n",
      "=========================================================================================\n",
      "Type:  NavigableString\n",
      "Name Tag:  None\n",
      "Text:   Hand\n",
      "\n",
      "Content:   Hand\n",
      "=========================================================================================\n",
      "=========================================================================================\n",
      "Type:  Tag\n",
      "Name Tag:  br\n",
      "Text:  \n",
      "\n",
      "Content:  <br/>\n"
     ]
    }
   ],
   "source": [
    "block = blocks[2]\n",
    "rows = block.find_all(\"div\", class_=\"pi-item\", recursive=False)\n",
    "row = rows[1]\n",
    "label = row.find(\"h3\").text\n",
    "item = row.find(\"div\", class_=\"pi-data-value\")\n",
    "for feat in item.children:\n",
    "    if isinstance(feat, Tag) and \"image\" in (feat.get(\"class\") or []):\n",
    "        continue\n",
    "    \n",
    "    print(\"=========================================================================================\")\n",
    "    print(\"=========================================================================================\")\n",
    "    print(\"Type: \", type(feat).__name__)\n",
    "    print(\"Name Tag: \", feat.name)\n",
    "    # print(\"Class: \", feat_class)\n",
    "    print(\"Text: \", feat.text)\n",
    "    print()\n",
    "    print(\"Content: \", feat)"
   ]
  },
  {
   "cell_type": "code",
   "execution_count": 176,
   "metadata": {},
   "outputs": [],
   "source": [
    "def extract_item_vals(item, item_type: str):\n",
    "\n",
    "    if item_type == \"text\":\n",
    "        vals = item.text.strip()\n",
    "        return vals\n",
    "    \n",
    "    if item_type == \"list\":\n",
    "        full_text = \"\"\n",
    "        vals = []\n",
    "        for child in item.children:\n",
    "            if child.name == \"br\":\n",
    "                if full_text:\n",
    "                    vals.append(full_text.strip()) \n",
    "                    full_text = \"\"\n",
    "            else:\n",
    "                full_text += child.text\n",
    "        if full_text:\n",
    "            vals.append(full_text.strip())\n",
    "        return vals\n",
    "    \n",
    "    elif item_type == \"dict\":\n",
    "        grouped_tags = []\n",
    "        current_group = []\n",
    "\n",
    "        for child in item.children:\n",
    "            # Saltar etiquetas con class=\"image\"\n",
    "            if isinstance(child, Tag) and \"image\" in (child.get(\"class\") or []):\n",
    "                continue\n",
    "\n",
    "            if child.name == \"br\":\n",
    "                # Agregar grupo si tiene elementos\n",
    "                if current_group:\n",
    "                    grouped_tags.append(current_group)\n",
    "                    current_group = []\n",
    "            else:\n",
    "                # Añadir texto no vacío\n",
    "                text = child.text.strip()\n",
    "                if text:\n",
    "                    current_group.append(text)\n",
    "\n",
    "        # Agregar el último grupo si no está vacío\n",
    "        if current_group:\n",
    "            grouped_tags.append(current_group)\n",
    "\n",
    "        # Crear diccionario con la información identificada\n",
    "        vals = {}\n",
    "        for group in grouped_tags:\n",
    "            try:\n",
    "                vals[group[1]] = group[0]\n",
    "            except IndexError:\n",
    "                raise ValueError(\"Information could not be extracted in dict format. Values: \", group)\n",
    "        return vals\n",
    "    \n",
    "    else:\n",
    "        raise ValueError(f\"Invalid item type: {item_type}\")"
   ]
  },
  {
   "cell_type": "code",
   "execution_count": 191,
   "metadata": {},
   "outputs": [
    {
     "data": {
      "text/plain": [
       "'Same as ranged attack'"
      ]
     },
     "execution_count": 191,
     "metadata": {},
     "output_type": "execute_result"
    }
   ],
   "source": [
    "block = blocks[5]\n",
    "rows = block.find_all(\"div\", class_=\"pi-item\", recursive=False)\n",
    "row = rows[3]\n",
    "label = row.find(\"h3\").text\n",
    "item = row.find(\"div\", class_=\"pi-data-value\")\n",
    "\n",
    "extract_item_vals(item, \"text\")"
   ]
  },
  {
   "cell_type": "code",
   "execution_count": 117,
   "metadata": {},
   "outputs": [],
   "source": [
    "# Save the HTML content of the infobox in a file for each block\n",
    "# for block in infobox.find_all(\"section\"):\n",
    "#     block_title = block.find(\"h2\").text\n",
    "#     folder_path = os.path.join(project_path, \"html\", block_title)\n",
    "#     os.makedirs(folder_path, exist_ok=True)\n",
    "#     rows = block.find_all(\"div\", class_=\"pi-item\", recursive=False)\n",
    "#     for row in rows:\n",
    "#         label = row.find(\"h3\").text\n",
    "#         row_path = os.path.join(folder_path, f\"{label}.html\")\n",
    "#         with open(row_path, \"w\") as f:\n",
    "#             f.write(str(row))\n",
    "    "
   ]
  }
 ],
 "metadata": {
  "kernelspec": {
   "display_name": ".venv",
   "language": "python",
   "name": "python3"
  },
  "language_info": {
   "codemirror_mode": {
    "name": "ipython",
    "version": 3
   },
   "file_extension": ".py",
   "mimetype": "text/x-python",
   "name": "python",
   "nbconvert_exporter": "python",
   "pygments_lexer": "ipython3",
   "version": "3.12.8"
  }
 },
 "nbformat": 4,
 "nbformat_minor": 2
}

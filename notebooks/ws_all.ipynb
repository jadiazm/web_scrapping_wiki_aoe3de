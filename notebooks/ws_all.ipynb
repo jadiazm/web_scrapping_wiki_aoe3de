{
 "cells": [
  {
   "cell_type": "code",
   "execution_count": 13,
   "metadata": {},
   "outputs": [
    {
     "name": "stdout",
     "output_type": "stream",
     "text": [
      "The autoreload extension is already loaded. To reload it, use:\n",
      "  %reload_ext autoreload\n"
     ]
    }
   ],
   "source": [
    "%load_ext autoreload\n",
    "%autoreload 2\n",
    "\n",
    "import os\n",
    "import sys\n",
    "\n",
    "project_path = os.path.abspath(\"..\")\n",
    "\n",
    "sys.path.append(project_path)"
   ]
  },
  {
   "cell_type": "code",
   "execution_count": 14,
   "metadata": {},
   "outputs": [],
   "source": [
    "from itertools import combinations\n",
    "\n",
    "from bs4 import BeautifulSoup as bs\n",
    "\n",
    "from src.scrap_hrefs import get_units_hrefs\n",
    "from src.utils import fetch_page_content"
   ]
  },
  {
   "cell_type": "code",
   "execution_count": 3,
   "metadata": {},
   "outputs": [],
   "source": [
    "aoe_wiki_url = \"https://ageofempires.fandom.com/\"\n",
    "units_url = aoe_wiki_url + \"wiki/Unit_(Age_of_Empires_III)\"\n",
    "unit_list_html = fetch_page_content(units_url)\n",
    "href_soup = bs(unit_list_html, \"html.parser\")\n",
    "main_page = href_soup.find('main', class_='page__main')\n",
    "\n",
    "\n",
    "content = href_soup.find('div', class_='mw-parser-output')\n",
    "h2s = content.find_all('h2', recursive=False)\n",
    "sections = [h2.find('span', class_='mw-headline', recursive=False).text for h2 in h2s]\n",
    "section_unit_hrefs = {section: get_units_hrefs(section, content) for section in sections}"
   ]
  },
  {
   "cell_type": "code",
   "execution_count": 4,
   "metadata": {},
   "outputs": [
    {
     "name": "stdout",
     "output_type": "stream",
     "text": [
      "('Explorer/War Chief/Monk/General', 'Town Center')  : {'Envoy'}\n",
      "('Town Center', 'Trading Post/Native Embassy/Tambo')  : {'Chasqui'}\n",
      "('Livestock Pen/Farm', 'Village')  : {'Goat'}\n",
      "('Dock/Port', 'Revolutionary Variants')  : {'Fire Ship'}\n",
      "('Dock/Port', 'Untrainable')  : {'Fire Ship'}\n",
      "('Trading Post/Native Embassy/Tambo', 'Community Plaza')  : {'Healer'}\n",
      "('Church/Mosque/Meeting House/Cathedral', 'Basilica')  : {'Priest', 'Spy'}\n",
      "('Artillery Foundry', 'Factory')  : {'Rocket'}\n",
      "('Kallanka', 'Community Plaza')  : {'Maceman'}\n",
      "('Revolutionary Variants', 'Untrainable')  : {'Boneguard Swordsman', \"Lizzie's Flagship\", 'Greta', 'Great Plains Chief', 'Horse', 'Treasure Ship', 'Native American Chief', 'Buccaneer Captain', 'Aztec Chief', 'White Wolf', 'Railroad Worker', 'Flat-bottomed Boat', 'White Buffalo', 'Cherokee Horse Archer', 'Dinghy', 'Black Powder Wagon', 'Boneguard Musketeer', 'Great Cannon', 'Fire Ship', 'White Jaguar', 'Outlaw Musketeer', \"Morgan's Flagship\", 'Cherokee Archer', 'Miner', 'Fierce Cougar', 'Native Boy'}\n"
     ]
    }
   ],
   "source": [
    "# Units in more than one building\n",
    "unique_units = {}\n",
    "for key, values in section_unit_hrefs.items():\n",
    "    unique_units[key] = set(values.keys())\n",
    "\n",
    "# Generar todas las posibles parejas de llaves\n",
    "key_pairs = combinations(unique_units.keys(), 2)\n",
    "\n",
    "for k1, k2 in key_pairs:\n",
    "    intersection = unique_units[k1] & unique_units[k2]\n",
    "    if len(intersection) > 0:\n",
    "        pair = (k1, k2)\n",
    "        print(pair, \" :\", intersection)"
   ]
  }
 ],
 "metadata": {
  "kernelspec": {
   "display_name": ".venv",
   "language": "python",
   "name": "python3"
  },
  "language_info": {
   "codemirror_mode": {
    "name": "ipython",
    "version": 3
   },
   "file_extension": ".py",
   "mimetype": "text/x-python",
   "name": "python",
   "nbconvert_exporter": "python",
   "pygments_lexer": "ipython3",
   "version": "3.12.8"
  }
 },
 "nbformat": 4,
 "nbformat_minor": 2
}

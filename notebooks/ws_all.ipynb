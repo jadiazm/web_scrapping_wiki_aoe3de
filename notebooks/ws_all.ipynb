{
 "cells": [
  {
   "cell_type": "code",
   "execution_count": 1,
   "metadata": {},
   "outputs": [],
   "source": [
    "%load_ext autoreload\n",
    "%autoreload 2\n",
    "\n",
    "import os\n",
    "import sys\n",
    "\n",
    "project_path = os.path.abspath(\"..\")\n",
    "\n",
    "sys.path.append(project_path)"
   ]
  },
  {
   "cell_type": "code",
   "execution_count": 142,
   "metadata": {},
   "outputs": [],
   "source": [
    "from itertools import combinations\n",
    "from urllib.parse import urlparse\n",
    "from tqdm import tqdm\n",
    "\n",
    "from bs4 import BeautifulSoup as bs\n",
    "\n",
    "from src.scrap_hrefs import get_units_hrefs\n",
    "from src.scrap_infobox import extract_unit_data\n",
    "from src.utils import fetch_page_content"
   ]
  },
  {
   "cell_type": "code",
   "execution_count": 3,
   "metadata": {},
   "outputs": [],
   "source": [
    "aoe_wiki_url = \"https://ageofempires.fandom.com/\"\n",
    "units_url = aoe_wiki_url + \"wiki/Unit_(Age_of_Empires_III)\"\n",
    "unit_list_html = fetch_page_content(units_url)\n",
    "href_soup = bs(unit_list_html, \"html.parser\")\n",
    "main_page = href_soup.find('main', class_='page__main')\n",
    "\n",
    "\n",
    "content = href_soup.find('div', class_='mw-parser-output')\n",
    "h2s = content.find_all('h2', recursive=False)\n",
    "sections = [h2.find('span', class_='mw-headline', recursive=False).text for h2 in h2s]\n",
    "section_unit_hrefs = {section: get_units_hrefs(section, content) for section in sections}"
   ]
  },
  {
   "cell_type": "code",
   "execution_count": 8,
   "metadata": {},
   "outputs": [
    {
     "name": "stdout",
     "output_type": "stream",
     "text": [
      "('Explorer/War Chief/Monk/General', 'Town Center')  : {'Envoy'}\n",
      "('Town Center', 'Trading Post/Native Embassy/Tambo')  : {'Chasqui'}\n",
      "('Livestock Pen/Farm', 'Village')  : {'Goat'}\n",
      "('Dock/Port', 'Revolutionary Variants')  : {'Fire Ship'}\n",
      "('Dock/Port', 'Untrainable')  : {'Fire Ship'}\n",
      "('Trading Post/Native Embassy/Tambo', 'Community Plaza')  : {'Healer'}\n",
      "('Church/Mosque/Meeting House/Cathedral', 'Basilica')  : {'Priest', 'Spy'}\n",
      "('Artillery Foundry', 'Factory')  : {'Rocket'}\n",
      "('Kallanka', 'Community Plaza')  : {'Maceman'}\n",
      "('Revolutionary Variants', 'Untrainable')  : {'Buccaneer Captain', 'Native Boy', 'White Jaguar', \"Morgan's Flagship\", 'Black Powder Wagon', 'Outlaw Musketeer', 'White Buffalo', 'Cherokee Archer', 'White Wolf', 'Aztec Chief', 'Horse', 'Boneguard Swordsman', 'Great Plains Chief', 'Greta', 'Treasure Ship', 'Great Cannon', 'Flat-bottomed Boat', 'Dinghy', 'Cherokee Horse Archer', 'Fierce Cougar', 'Miner', 'Fire Ship', 'Railroad Worker', 'Boneguard Musketeer', 'Native American Chief', \"Lizzie's Flagship\"}\n"
     ]
    }
   ],
   "source": [
    "# Units in more than one building\n",
    "unique_units = {}\n",
    "for key, values in section_unit_hrefs.items():\n",
    "    unique_units[key] = set(values.keys())\n",
    "\n",
    "# Generar todas las posibles parejas de llaves\n",
    "key_pairs = combinations(unique_units.keys(), 2)\n",
    "\n",
    "for k1, k2 in key_pairs:\n",
    "    intersection = unique_units[k1] & unique_units[k2]\n",
    "    if len(intersection) > 0:\n",
    "        pair = (k1, k2)\n",
    "        print(pair, \" :\", intersection)"
   ]
  },
  {
   "cell_type": "code",
   "execution_count": 10,
   "metadata": {},
   "outputs": [],
   "source": [
    "all_hrefs = [href for sect in section_unit_hrefs.values() for href in sect.values()]"
   ]
  },
  {
   "cell_type": "code",
   "execution_count": 140,
   "metadata": {},
   "outputs": [],
   "source": [
    "def find_infobox(fragment_id, infoboxes):\n",
    "    TARGET_GAME = \"Age of Empires III\"\n",
    "    \n",
    "    fragment_normalized = fragment_id.strip().replace(\" \", \"_\").lower()\n",
    "    \n",
    "    for infobox in infoboxes:\n",
    "        unit_name = infobox.find(\"h2\")\n",
    "        if not unit_name:\n",
    "            continue\n",
    "\n",
    "        unit_name_normalized = unit_name.text.strip().replace(\" \", \"_\").lower()\n",
    "        game_div = infobox.find(\"div\", class_=\"pi-data-value\")\n",
    "\n",
    "        if not game_div:\n",
    "            continue\n",
    "\n",
    "        game = game_div.text.strip()\n",
    "\n",
    "        if TARGET_GAME in game and fragment_normalized == unit_name_normalized:\n",
    "            return infobox\n",
    "    \n",
    "    return None"
   ]
  },
  {
   "cell_type": "code",
   "execution_count": 145,
   "metadata": {},
   "outputs": [
    {
     "name": "stderr",
     "output_type": "stream",
     "text": [
      "100%|\u001b[34m██████████\u001b[0m| 420/420 [08:40<00:00,  1.24s/it]\n"
     ]
    }
   ],
   "source": [
    "item_types = {\n",
    "    \"text\": [\n",
    "        \"Introduced in\",\n",
    "        \"Required Home City Card\",\n",
    "        \"Hit points\",\n",
    "        \"Speed\",\n",
    "        \"Line of Sight\",\n",
    "        \"XP train bounty\",\n",
    "        \"XP kill bounty\",\n",
    "        \"Range\",\n",
    "        \"Rate of Fire\",\n",
    "        \"Train limit\",\n",
    "        \"Ability\",\n",
    "        \"Special ability\",\n",
    "        \"Area of Effect\",\n",
    "        \"Requires\",\n",
    "        \"Regeneration\",\n",
    "        \"Resource amount\",\n",
    "        \"Gatherers\",\n",
    "        \"Auto gather\",\n",
    "        \"Pronunciation\",\n",
    "        \"Garrison\",\n",
    "    ],\n",
    "    \"list\": [\"Type\", \"Civilization(s)\", \"Age\", \"Trained at\", \"Fatten rate\"],\n",
    "    \"dict\": [\"Cost\", \"Train time\", \"Resistance\", \"Damage\", \"Bonus damage\", \"Fatten rate\"],\n",
    "    \"ignore\": [\"Internal name\"],\n",
    "}\n",
    "\n",
    "# for url in all_hrefs:\n",
    "for url in tqdm(all_hrefs, colour=\"blue\"):\n",
    "    try:\n",
    "        url = all_hrefs[0]\n",
    "        unit_html = fetch_page_content(url)\n",
    "        unit_soup = bs(unit_html, \"html.parser\")\n",
    "        infoboxes = unit_soup.find_all(\"aside\", class_=\"portable-infobox\")\n",
    "        fragment_id = urlparse(url).fragment\n",
    "        if fragment_id:\n",
    "            infobox = find_infobox(fragment_id, infoboxes)\n",
    "        else:\n",
    "            if len(infoboxes) > 1:\n",
    "                raise ValueError(\"Multiple infoboxes found\")\n",
    "            infobox = infoboxes[0]\n",
    "        if infobox is None:\n",
    "            raise ValueError(\"Infobox not found\")\n",
    "        unit_data = extract_unit_data(infobox, item_types)\n",
    "    except Exception as e:\n",
    "        print(url)\n",
    "        print(e)"
   ]
  },
  {
   "cell_type": "code",
   "execution_count": 144,
   "metadata": {},
   "outputs": [
    {
     "data": {
      "text/plain": [
       "{'name': 'Axehilt the Tame Tiger',\n",
       " 'Information': {'Introduced in': 'Age of Empires III: The Asian Dynasties',\n",
       "  'Type': ['Pet', 'Hand infantry', 'Sees stealth*'],\n",
       "  'Civilization(s)': ['Indians'],\n",
       "  'Age': ['Exploration Age'],\n",
       "  'Required Home City Card': '\"Favorable Karma\"'},\n",
       " 'Training': {'Trained at': ['Brahmin'],\n",
       "  'Cost': {'Food': '135'},\n",
       "  'Train time': {'seconds': '22'},\n",
       "  'Train limit': '10'},\n",
       " 'Statistics': {'Hit points': '120',\n",
       "  'Resistance': {'Hand': '10%'},\n",
       "  'Speed': '5.0',\n",
       "  'Line of Sight': '12',\n",
       "  'XP train bounty': '14',\n",
       "  'XP kill bounty': '14'},\n",
       " 'Hand attack': {'Damage': {'Hand': '14'},\n",
       "  'Rate of Fire': '1.5',\n",
       "  'Bonus damage': {'x vs.': '1.3',\n",
       "   'Treasure guardian': '1.2x vs.',\n",
       "   'Villager': '0.2x vs.'}}}"
      ]
     },
     "execution_count": 144,
     "metadata": {},
     "output_type": "execute_result"
    }
   ],
   "source": [
    "unit_data"
   ]
  }
 ],
 "metadata": {
  "kernelspec": {
   "display_name": ".venv",
   "language": "python",
   "name": "python3"
  },
  "language_info": {
   "codemirror_mode": {
    "name": "ipython",
    "version": 3
   },
   "file_extension": ".py",
   "mimetype": "text/x-python",
   "name": "python",
   "nbconvert_exporter": "python",
   "pygments_lexer": "ipython3",
   "version": "3.12.8"
  }
 },
 "nbformat": 4,
 "nbformat_minor": 2
}

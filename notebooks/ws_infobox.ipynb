{
 "cells": [
  {
   "cell_type": "code",
   "execution_count": 1,
   "metadata": {},
   "outputs": [],
   "source": [
    "%load_ext autoreload\n",
    "%autoreload 2\n",
    "\n",
    "import os\n",
    "import sys\n",
    "\n",
    "project_path = os.path.abspath(\"..\")\n",
    "\n",
    "sys.path.append(project_path)"
   ]
  },
  {
   "cell_type": "code",
   "execution_count": 2,
   "metadata": {},
   "outputs": [],
   "source": [
    "from bs4 import BeautifulSoup as bs\n",
    "from bs4.element import Tag\n",
    "from src.utils import fetch_page_content\n",
    "from src.scrap_infobox import download_unit_icon, extract_item_vals, extract_unit_data"
   ]
  },
  {
   "cell_type": "code",
   "execution_count": 3,
   "metadata": {},
   "outputs": [],
   "source": [
    "url = \"https://ageofempires.fandom.com/wiki/War_Wagon_(Age_of_Empires_III)\"\n",
    "html_content = fetch_page_content(url)\n",
    "soup = bs(html_content, \"html.parser\")\n",
    "infobox = soup.find('aside', class_='portable-infobox')"
   ]
  },
  {
   "cell_type": "code",
   "execution_count": 4,
   "metadata": {},
   "outputs": [
    {
     "name": "stdout",
     "output_type": "stream",
     "text": [
      "Icono guardado como: 'war_wagon_de.png' en 'c:\\Users\\Jonathan Diaz\\Documentos\\Proyects\\aoe3de_web_scraper\\images'\n"
     ]
    }
   ],
   "source": [
    "img_path = os.path.join(project_path, \"images\")\n",
    "download_unit_icon(infobox, img_path)"
   ]
  },
  {
   "cell_type": "code",
   "execution_count": 5,
   "metadata": {},
   "outputs": [],
   "source": [
    "blocks = infobox.find_all(\"section\")"
   ]
  },
  {
   "cell_type": "code",
   "execution_count": 6,
   "metadata": {},
   "outputs": [
    {
     "name": "stdout",
     "output_type": "stream",
     "text": [
      "=========================================================================================\n",
      "=========================================================================================\n",
      "Type:  NavigableString\n",
      "Name Tag:  None\n",
      "Text:  20% \n",
      "\n",
      "Content:  20% \n",
      "=========================================================================================\n",
      "=========================================================================================\n",
      "Type:  NavigableString\n",
      "Name Tag:  None\n",
      "Text:   Hand\n",
      "\n",
      "Content:   Hand\n",
      "=========================================================================================\n",
      "=========================================================================================\n",
      "Type:  Tag\n",
      "Name Tag:  br\n",
      "Text:  \n",
      "\n",
      "Content:  <br/>\n"
     ]
    }
   ],
   "source": [
    "block = blocks[2]\n",
    "rows = block.find_all(\"div\", class_=\"pi-item\", recursive=False)\n",
    "row = rows[1]\n",
    "label = row.find(\"h3\").text\n",
    "item = row.find(\"div\", class_=\"pi-data-value\")\n",
    "for feat in item.children:\n",
    "    if isinstance(feat, Tag) and \"image\" in (feat.get(\"class\") or []):\n",
    "        continue\n",
    "    \n",
    "    print(\"=========================================================================================\")\n",
    "    print(\"=========================================================================================\")\n",
    "    print(\"Type: \", type(feat).__name__)\n",
    "    print(\"Name Tag: \", feat.name)\n",
    "    # print(\"Class: \", feat_class)\n",
    "    print(\"Text: \", feat.text)\n",
    "    print()\n",
    "    print(\"Content: \", feat)"
   ]
  },
  {
   "cell_type": "code",
   "execution_count": 8,
   "metadata": {},
   "outputs": [
    {
     "data": {
      "text/plain": [
       "'Same as ranged attack'"
      ]
     },
     "execution_count": 8,
     "metadata": {},
     "output_type": "execute_result"
    }
   ],
   "source": [
    "block = blocks[5]\n",
    "rows = block.find_all(\"div\", class_=\"pi-item\", recursive=False)\n",
    "row = rows[3]\n",
    "label = row.find(\"h3\").text\n",
    "item = row.find(\"div\", class_=\"pi-data-value\")\n",
    "\n",
    "extract_item_vals(item, \"text\", label)"
   ]
  },
  {
   "cell_type": "code",
   "execution_count": 11,
   "metadata": {},
   "outputs": [],
   "source": [
    "unit_data = extract_unit_data(infobox)"
   ]
  },
  {
   "cell_type": "code",
   "execution_count": 12,
   "metadata": {},
   "outputs": [
    {
     "name": "stdout",
     "output_type": "stream",
     "text": [
      "{\n",
      "    \"name\": \"War Wagon\",\n",
      "    \"Information\": {\n",
      "        \"Introduced in\": \"Age of Empires III\",\n",
      "        \"Type\": [\n",
      "            \"Cavalry\",\n",
      "            \"Light ranged cavalry\",\n",
      "            \"Ranged cavalry\",\n",
      "            \"Gunpowder cavalry\"\n",
      "        ],\n",
      "        \"Civilization(s)\": [\n",
      "            \"Germans\",\n",
      "            \"John Black's Mercenaries (Act II: Ice)\",\n",
      "            \"South Africa\"\n",
      "        ],\n",
      "        \"Age\": [\n",
      "            \"Fortress Age\",\n",
      "            \"Revolution (South Africa)\"\n",
      "        ],\n",
      "        \"Required Home City Card\": \"\\\"Wagon Warfare\\\" (South Africa)\"\n",
      "    },\n",
      "    \"Training\": {\n",
      "        \"Trained at\": [\n",
      "            \"Stable\",\n",
      "            \"Fort\",\n",
      "            \"Galleon\",\n",
      "            \"Fluyt (South Africa)\",\n",
      "            \"Steamer (Gran Colombia)\"\n",
      "        ],\n",
      "        \"Cost\": {\n",
      "            \"Food\": \"150\",\n",
      "            \"Coin\": \"150\",\n",
      "            \"Population\": \"3\"\n",
      "        },\n",
      "        \"Train time\": {\n",
      "            \"seconds\": \"60\"\n",
      "        }\n",
      "    },\n",
      "    \"Statistics\": {\n",
      "        \"Hit points\": \"500\",\n",
      "        \"Resistance\": {\n",
      "            \"Hand\": \"20%\"\n",
      "        },\n",
      "        \"Speed\": \"6.0\",\n",
      "        \"Line of Sight\": \"22\",\n",
      "        \"Train XP\": \"30\",\n",
      "        \"Kill XP\": \"30\"\n",
      "    },\n",
      "    \"Ranged attack\": {\n",
      "        \"Damage\": {\n",
      "            \"Ranged\": \"42\"\n",
      "        },\n",
      "        \"Range\": \"16\",\n",
      "        \"Rate of Fire\": \"3.0\",\n",
      "        \"Bonus damage\": \"3.0x vs.  Heavy cavalry2.25x vs.  Hand shock infantry2.0x vs.  Artillery0.5x vs.  Villager\"\n",
      "    },\n",
      "    \"Siege attack\": {\n",
      "        \"Damage\": {\n",
      "            \"Siege\": \"30\"\n",
      "        },\n",
      "        \"Range\": \"6\",\n",
      "        \"Rate of Fire\": \"3.0\"\n",
      "    },\n",
      "    \"Hand attack\": {\n",
      "        \"Damage\": {\n",
      "            \"Hand\": \"21\"\n",
      "        },\n",
      "        \"Range\": \"3\",\n",
      "        \"Rate of Fire\": \"1.5\",\n",
      "        \"Bonus damage\": \"Same as ranged attack\"\n",
      "    }\n",
      "}\n"
     ]
    }
   ],
   "source": [
    "import json\n",
    "\n",
    "print(json.dumps(unit_data, indent=4))"
   ]
  }
 ],
 "metadata": {
  "kernelspec": {
   "display_name": ".venv",
   "language": "python",
   "name": "python3"
  },
  "language_info": {
   "codemirror_mode": {
    "name": "ipython",
    "version": 3
   },
   "file_extension": ".py",
   "mimetype": "text/x-python",
   "name": "python",
   "nbconvert_exporter": "python",
   "pygments_lexer": "ipython3",
   "version": "3.12.9"
  }
 },
 "nbformat": 4,
 "nbformat_minor": 2
}

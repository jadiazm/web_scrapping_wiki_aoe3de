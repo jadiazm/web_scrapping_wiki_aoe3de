{
 "cells": [
  {
   "cell_type": "code",
   "execution_count": 6,
   "metadata": {},
   "outputs": [
    {
     "name": "stdout",
     "output_type": "stream",
     "text": [
      "The autoreload extension is already loaded. To reload it, use:\n",
      "  %reload_ext autoreload\n"
     ]
    }
   ],
   "source": [
    "%load_ext autoreload\n",
    "%autoreload 2\n",
    "\n",
    "import os\n",
    "import sys\n",
    "\n",
    "import requests\n",
    "from bs4 import BeautifulSoup as bs\n",
    "from bs4.element import Tag, NavigableString\n",
    "\n",
    "project_path = os.path.abspath(\"..\")\n",
    "\n",
    "sys.path.append(project_path)"
   ]
  },
  {
   "cell_type": "code",
   "execution_count": 7,
   "metadata": {},
   "outputs": [],
   "source": [
    "from src.scraper import (\n",
    "    download_unit_icon,\n",
    "    extract_block_data,\n",
    "    extract_item_vals,\n",
    "    extract_unit_data,\n",
    ")"
   ]
  },
  {
   "cell_type": "code",
   "execution_count": 8,
   "metadata": {},
   "outputs": [],
   "source": [
    "def fetch_page_content(url):\n",
    "    \"\"\"Fetches the HTML content of the page.\"\"\"\n",
    "    response = requests.get(url)\n",
    "    response.raise_for_status()\n",
    "    # Raises an error for bad responses (e.g., 404, 500)\n",
    "    return response.text"
   ]
  },
  {
   "cell_type": "code",
   "execution_count": 9,
   "metadata": {},
   "outputs": [],
   "source": [
    "url = \"https://ageofempires.fandom.com/wiki/War_Wagon_(Age_of_Empires_III)\"\n",
    "html_content = fetch_page_content(url)\n",
    "soup = bs(html_content, \"html.parser\")\n",
    "infobox = soup.find('aside', class_='portable-infobox')"
   ]
  },
  {
   "cell_type": "code",
   "execution_count": 7,
   "metadata": {},
   "outputs": [
    {
     "name": "stdout",
     "output_type": "stream",
     "text": [
      "Icono guardado como: 'war_wagon_de.png' en 'c:\\Users\\Jonathan Diaz\\Documentos\\Proyects\\aoe3de_web_scraper\\images'\n"
     ]
    }
   ],
   "source": [
    "img_path = os.path.join(project_path, \"images\")\n",
    "download_unit_icon(infobox, img_path)"
   ]
  },
  {
   "cell_type": "code",
   "execution_count": 9,
   "metadata": {},
   "outputs": [
    {
     "name": "stdout",
     "output_type": "stream",
     "text": [
      "label:  Introduced in\n",
      "value_type:  str\n",
      "values:  Age of Empires III\n",
      "\n",
      "label:  Type\n",
      "value_type:  list\n",
      "values:  ['Cavalry', 'Light ranged cavalry', 'Ranged cavalry', 'Gunpowder cavalry']\n",
      "\n",
      "label:  Civilization(s)\n",
      "value_type:  list\n",
      "values:  ['Germans', \"John Black's Mercenaries (Act II: Ice)\", 'South Africa']\n",
      "\n",
      "label:  Age\n",
      "value_type:  list\n",
      "values:  ['Fortress Age', 'Revolution (South Africa)']\n",
      "\n",
      "label:  Required Home City Card\n",
      "value_type:  str\n",
      "values:  \"Wagon Warfare\" (South Africa)\n",
      "\n"
     ]
    },
    {
     "data": {
      "text/plain": [
       "{'Introduced in': 'Age of Empires III',\n",
       " 'Type': ['Cavalry',\n",
       "  'Light ranged cavalry',\n",
       "  'Ranged cavalry',\n",
       "  'Gunpowder cavalry'],\n",
       " 'Civilization(s)': ['Germans',\n",
       "  \"John Black's Mercenaries (Act II: Ice)\",\n",
       "  'South Africa'],\n",
       " 'Age': ['Fortress Age', 'Revolution (South Africa)'],\n",
       " 'Required Home City Card': '\"Wagon Warfare\" (South Africa)'}"
      ]
     },
     "execution_count": 9,
     "metadata": {},
     "output_type": "execute_result"
    }
   ],
   "source": [
    "blocks = infobox.find_all(\"section\")\n",
    "block = blocks[0]\n",
    "extract_block_data(block)"
   ]
  },
  {
   "cell_type": "code",
   "execution_count": 10,
   "metadata": {},
   "outputs": [
    {
     "name": "stdout",
     "output_type": "stream",
     "text": [
      "label:  Introduced in\n",
      "value_type:  <class 'str'>\n",
      "values:  Age of Empires III\n"
     ]
    }
   ],
   "source": [
    "statistic_labels = [\n",
    "    \"Cost\",\n",
    "    \"Resistance\",\n",
    "    \"Damage\",\n",
    "    \"Bonus damage\",\n",
    "]\n",
    "\n",
    "rows = block.find_all(\"div\", class_=\"pi-item\", recursive=False)\n",
    "row = rows[0]\n",
    "label = row.find(\"h3\").text\n",
    "is_st_label = label in statistic_labels\n",
    "\n",
    "elements = row.find(\"div\", class_=\"pi-data-value\")\n",
    "\n",
    "values = extract_feat_values(elements, is_st_label)\n",
    "\n",
    "print(\"label: \", label)\n",
    "print(\"value_type: \", type(values))\n",
    "print(\"values: \", values)"
   ]
  },
  {
   "cell_type": "code",
   "execution_count": 134,
   "metadata": {},
   "outputs": [
    {
     "name": "stdout",
     "output_type": "stream",
     "text": [
      "=========================================================================================\n",
      "=========================================================================================\n",
      "Type:  NavigableString\n",
      "Name Tag:  None\n",
      "Text:  20% \n",
      "\n",
      "Content:  20% \n",
      "=========================================================================================\n",
      "=========================================================================================\n",
      "Type:  NavigableString\n",
      "Name Tag:  None\n",
      "Text:   Hand\n",
      "\n",
      "Content:   Hand\n",
      "=========================================================================================\n",
      "=========================================================================================\n",
      "Type:  Tag\n",
      "Name Tag:  br\n",
      "Text:  \n",
      "\n",
      "Content:  <br/>\n"
     ]
    }
   ],
   "source": [
    "block = blocks[2]\n",
    "rows = block.find_all(\"div\", class_=\"pi-item\", recursive=False)\n",
    "row = rows[1]\n",
    "label = row.find(\"h3\").text\n",
    "item = row.find(\"div\", class_=\"pi-data-value\")\n",
    "for feat in item.children:\n",
    "    if isinstance(feat, Tag) and \"image\" in (feat.get(\"class\") or []):\n",
    "        continue\n",
    "    \n",
    "    print(\"=========================================================================================\")\n",
    "    print(\"=========================================================================================\")\n",
    "    print(\"Type: \", type(feat).__name__)\n",
    "    print(\"Name Tag: \", feat.name)\n",
    "    # print(\"Class: \", feat_class)\n",
    "    print(\"Text: \", feat.text)\n",
    "    print()\n",
    "    print(\"Content: \", feat)"
   ]
  },
  {
   "cell_type": "code",
   "execution_count": 21,
   "metadata": {},
   "outputs": [
    {
     "ename": "NameError",
     "evalue": "name 'blocks' is not defined",
     "output_type": "error",
     "traceback": [
      "\u001b[1;31m---------------------------------------------------------------------------\u001b[0m",
      "\u001b[1;31mNameError\u001b[0m                                 Traceback (most recent call last)",
      "Cell \u001b[1;32mIn[21], line 1\u001b[0m\n\u001b[1;32m----> 1\u001b[0m block \u001b[38;5;241m=\u001b[39m \u001b[43mblocks\u001b[49m[\u001b[38;5;241m5\u001b[39m]\n\u001b[0;32m      2\u001b[0m rows \u001b[38;5;241m=\u001b[39m block\u001b[38;5;241m.\u001b[39mfind_all(\u001b[38;5;124m\"\u001b[39m\u001b[38;5;124mdiv\u001b[39m\u001b[38;5;124m\"\u001b[39m, class_\u001b[38;5;241m=\u001b[39m\u001b[38;5;124m\"\u001b[39m\u001b[38;5;124mpi-item\u001b[39m\u001b[38;5;124m\"\u001b[39m, recursive\u001b[38;5;241m=\u001b[39m\u001b[38;5;28;01mFalse\u001b[39;00m)\n\u001b[0;32m      3\u001b[0m row \u001b[38;5;241m=\u001b[39m rows[\u001b[38;5;241m3\u001b[39m]\n",
      "\u001b[1;31mNameError\u001b[0m: name 'blocks' is not defined"
     ]
    }
   ],
   "source": [
    "block = blocks[5]\n",
    "rows = block.find_all(\"div\", class_=\"pi-item\", recursive=False)\n",
    "row = rows[3]\n",
    "label = row.find(\"h3\").text\n",
    "item = row.find(\"div\", class_=\"pi-data-value\")\n",
    "\n",
    "extract_item_vals(item, \"text\")"
   ]
  },
  {
   "cell_type": "code",
   "execution_count": 24,
   "metadata": {},
   "outputs": [
    {
     "name": "stdout",
     "output_type": "stream",
     "text": [
      "Information for could not be extracted in dict format. Present values:  ['Same as ranged attack']\n"
     ]
    }
   ],
   "source": [
    "item_types = {\n",
    "    \"text\": [\n",
    "        \"Introduced in\", \n",
    "        \"Required Home City Card\", \n",
    "        \"Hit points\", \n",
    "        \"Speed\", \n",
    "        \"Line of Sight\", \n",
    "        \"XP train bounty\", \n",
    "        \"XP kill bounty\", \n",
    "        \"Range\", \n",
    "        \"Rate of Fire\", \n",
    "    ],\n",
    "    \"list\": [\"Type\", \"Civilization(s)\", \"Age\", \"Trained at\"],\n",
    "    \"dict\": [\"Cost\", \"Train time\", \"Resistance\", \"Damage\", \"Bonus damage\"],\n",
    "}\n",
    "unit_data = extract_unit_data(infobox, item_types)"
   ]
  },
  {
   "cell_type": "code",
   "execution_count": 25,
   "metadata": {},
   "outputs": [
    {
     "name": "stdout",
     "output_type": "stream",
     "text": [
      "{\n",
      "    \"Information\": {\n",
      "        \"Introduced in\": \"Age of Empires III\",\n",
      "        \"Type\": [\n",
      "            \"Cavalry\",\n",
      "            \"Light ranged cavalry\",\n",
      "            \"Ranged cavalry\",\n",
      "            \"Gunpowder cavalry\"\n",
      "        ],\n",
      "        \"Civilization(s)\": [\n",
      "            \"Germans\",\n",
      "            \"John Black's Mercenaries (Act II: Ice)\",\n",
      "            \"South Africa\"\n",
      "        ],\n",
      "        \"Age\": [\n",
      "            \"Fortress Age\",\n",
      "            \"Revolution (South Africa)\"\n",
      "        ],\n",
      "        \"Required Home City Card\": \"\\\"Wagon Warfare\\\" (South Africa)\"\n",
      "    },\n",
      "    \"Training\": {\n",
      "        \"Trained at\": [\n",
      "            \"Stable\",\n",
      "            \"Fort\",\n",
      "            \"Galleon\",\n",
      "            \"Fluyt (South Africa)\",\n",
      "            \"Steamer (Gran Colombia)\"\n",
      "        ],\n",
      "        \"Cost\": {\n",
      "            \"Food\": \"150\",\n",
      "            \"Coin\": \"150\",\n",
      "            \"Population\": \"3\"\n",
      "        },\n",
      "        \"Train time\": {\n",
      "            \"seconds\": \"60\"\n",
      "        }\n",
      "    },\n",
      "    \"Statistics\": {\n",
      "        \"Hit points\": \"500\",\n",
      "        \"Resistance\": {\n",
      "            \"Hand\": \"20%\"\n",
      "        },\n",
      "        \"Speed\": \"6.0\",\n",
      "        \"Line of Sight\": \"22\",\n",
      "        \"XP train bounty\": \"30\",\n",
      "        \"XP kill bounty\": \"30\"\n",
      "    },\n",
      "    \"Ranged attack\": {\n",
      "        \"Damage\": {\n",
      "            \"Ranged\": \"42\"\n",
      "        },\n",
      "        \"Range\": \"16\",\n",
      "        \"Rate of Fire\": \"3.0\",\n",
      "        \"Bonus damage\": {\n",
      "            \"Heavy cavalry\": \"3.0x vs.\",\n",
      "            \"Hand shock infantry\": \"2.25x vs.\",\n",
      "            \"Artillery\": \"2.0x vs.\",\n",
      "            \"Villager\": \"0.5x vs.\"\n",
      "        }\n",
      "    },\n",
      "    \"Siege attack\": {\n",
      "        \"Damage\": {\n",
      "            \"Siege\": \"30\"\n",
      "        },\n",
      "        \"Range\": \"6\",\n",
      "        \"Rate of Fire\": \"3.0\"\n",
      "    },\n",
      "    \"Hand attack\": {\n",
      "        \"Damage\": {\n",
      "            \"Hand\": \"21\"\n",
      "        },\n",
      "        \"Range\": \"3\",\n",
      "        \"Rate of Fire\": \"1.5\",\n",
      "        \"Bonus damage\": \"Same as ranged attack\"\n",
      "    }\n",
      "}\n"
     ]
    }
   ],
   "source": [
    "import json\n",
    "\n",
    "print(json.dumps(unit_data, indent=4))"
   ]
  }
 ],
 "metadata": {
  "kernelspec": {
   "display_name": ".venv",
   "language": "python",
   "name": "python3"
  },
  "language_info": {
   "codemirror_mode": {
    "name": "ipython",
    "version": 3
   },
   "file_extension": ".py",
   "mimetype": "text/x-python",
   "name": "python",
   "nbconvert_exporter": "python",
   "pygments_lexer": "ipython3",
   "version": "3.12.8"
  }
 },
 "nbformat": 4,
 "nbformat_minor": 2
}
